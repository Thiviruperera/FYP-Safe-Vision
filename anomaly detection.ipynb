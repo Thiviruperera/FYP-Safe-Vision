{
 "cells": [
  {
   "cell_type": "markdown",
   "id": "72dc5d0d",
   "metadata": {},
   "source": [
    "# Importing & Splitting the dataset to test, train, validation sets"
   ]
  },
  {
   "cell_type": "code",
   "execution_count": 1,
   "id": "a0a5e183",
   "metadata": {},
   "outputs": [],
   "source": [
    "# import splitfolders"
   ]
  },
  {
   "cell_type": "code",
   "execution_count": 2,
   "id": "68a60054",
   "metadata": {},
   "outputs": [],
   "source": [
    "# input_folder = \"dataset\"\n",
    "# output_folder = \"processed_data\"\n",
    "# splitfolders.ratio(input_folder, output_folder, seed=42, ratio=(.8,.1,.1))"
   ]
  },
  {
   "cell_type": "code",
   "execution_count": 3,
   "id": "f65ff606",
   "metadata": {},
   "outputs": [],
   "source": [
    "# help(splitfolders.ratio)"
   ]
  },
  {
   "cell_type": "markdown",
   "id": "a702ccce",
   "metadata": {},
   "source": [
    "# Importing required packages"
   ]
  },
  {
   "cell_type": "code",
   "execution_count": 4,
   "id": "6233331b",
   "metadata": {},
   "outputs": [],
   "source": [
    "from tensorflow.keras.layers import Conv2D, Flatten, Dense, MaxPool2D, BatchNormalization, GlobalAveragePooling2D, Dropout\n",
    "from tensorflow.keras.applications.resnet50 import preprocess_input, decode_predictions\n",
    "from tensorflow.keras.preprocessing.image import ImageDataGenerator, load_img\n",
    "from tensorflow.keras.applications.resnet50 import ResNet50\n",
    "from tensorflow.keras.preprocessing import image\n",
    "from tensorflow.keras.models import Sequential\n",
    "from tensorflow.keras.models import Model\n",
    "import matplotlib.pyplot as plt\n",
    "import numpy as np"
   ]
  },
  {
   "cell_type": "markdown",
   "id": "c97b89db",
   "metadata": {},
   "source": [
    "# Preprocessing"
   ]
  },
  {
   "cell_type": "code",
   "execution_count": 5,
   "id": "2adb934d",
   "metadata": {},
   "outputs": [],
   "source": [
    "img_height, img_width = (64,64)\n",
    "batch_size = 32\n",
    "\n",
    "train_data_dir = r\"processed_data\\train\"\n",
    "valid_data_dir = r\"processed_data\\val\"\n",
    "test_data_dir = r\"processed_data\\test\""
   ]
  },
  {
   "cell_type": "code",
   "execution_count": 6,
   "id": "d7946802",
   "metadata": {},
   "outputs": [
    {
     "name": "stdout",
     "output_type": "stream",
     "text": [
      "Found 709910 images belonging to 2 classes.\n",
      "Found 50679 images belonging to 2 classes.\n",
      "Found 33765 images belonging to 2 classes.\n"
     ]
    }
   ],
   "source": [
    "train_datagen =  ImageDataGenerator(preprocessing_function=preprocess_input,\n",
    "                                    shear_range=0.2,\n",
    "                                    zoom_range=0.2,\n",
    "                                    horizontal_flip=True,\n",
    "                                    validation_split=0.4) # set as training data\n",
    "\n",
    "train_generator = train_datagen.flow_from_directory(train_data_dir,\n",
    "                                                    target_size=(img_height, img_width),\n",
    "                                                    batch_size=batch_size,\n",
    "                                                    class_mode='categorical',\n",
    "                                                    subset='training') # set as training data\n",
    "\n",
    "valid_generator = train_datagen.flow_from_directory(valid_data_dir,\n",
    "                                                    target_size=(img_height, img_width),\n",
    "                                                    batch_size=batch_size,\n",
    "                                                    class_mode='categorical',\n",
    "                                                    subset='validation') # set as validation data\n",
    "\n",
    "test_generator = train_datagen.flow_from_directory(test_data_dir,\n",
    "                                                    target_size=(img_height, img_width),\n",
    "                                                    batch_size=1,\n",
    "                                                    class_mode='categorical',\n",
    "                                                    subset='validation') # set as validation data"
   ]
  },
  {
   "cell_type": "code",
   "execution_count": 7,
   "id": "571643de",
   "metadata": {},
   "outputs": [
    {
     "data": {
      "text/plain": [
       "(1, 64, 64, 3)"
      ]
     },
     "execution_count": 7,
     "metadata": {},
     "output_type": "execute_result"
    }
   ],
   "source": [
    "x, y = test_generator.next()\n",
    "x.shape"
   ]
  },
  {
   "cell_type": "markdown",
   "id": "4a891859",
   "metadata": {},
   "source": [
    "# Modeling and Fitting"
   ]
  },
  {
   "cell_type": "code",
   "execution_count": 8,
   "id": "91aea242",
   "metadata": {
    "scrolled": true
   },
   "outputs": [
    {
     "name": "stdout",
     "output_type": "stream",
     "text": [
      "Epoch 1/8\n",
      "22185/22185 [==============================] - 1605s 72ms/step - loss: 0.1437 - accuracy: 0.9479 - val_loss: 1.2007 - val_accuracy: 0.5614\n",
      "Epoch 2/8\n",
      "22185/22185 [==============================] - 1372s 62ms/step - loss: 0.0862 - accuracy: 0.9743 - val_loss: 2.5527 - val_accuracy: 0.5722\n",
      "Epoch 3/8\n",
      "22185/22185 [==============================] - 1346s 61ms/step - loss: 0.0721 - accuracy: 0.9799 - val_loss: 2.2518 - val_accuracy: 0.6404\n",
      "Epoch 4/8\n",
      "22185/22185 [==============================] - 1774s 80ms/step - loss: 0.0665 - accuracy: 0.9829 - val_loss: 2.5101 - val_accuracy: 0.6018\n",
      "Epoch 5/8\n",
      "22185/22185 [==============================] - 1304s 59ms/step - loss: 0.0622 - accuracy: 0.9847 - val_loss: 1.6961 - val_accuracy: 0.6050\n",
      "Epoch 6/8\n",
      "22185/22185 [==============================] - 1291s 58ms/step - loss: 0.0609 - accuracy: 0.9854 - val_loss: 2.4920 - val_accuracy: 0.6083\n",
      "Epoch 7/8\n",
      "22185/22185 [==============================] - 1294s 58ms/step - loss: 0.0600 - accuracy: 0.9856 - val_loss: 1.6414 - val_accuracy: 0.6173\n",
      "Epoch 8/8\n",
      "22185/22185 [==============================] - 1290s 58ms/step - loss: 0.0594 - accuracy: 0.9866 - val_loss: 1.7311 - val_accuracy: 0.6337\n"
     ]
    },
    {
     "data": {
      "text/plain": [
       "<keras.callbacks.History at 0x1e9a6564100>"
      ]
     },
     "execution_count": 8,
     "metadata": {},
     "output_type": "execute_result"
    }
   ],
   "source": [
    "base_model = ResNet50(include_top=False, weights='imagenet')\n",
    "x = base_model.output\n",
    "x = GlobalAveragePooling2D()(x)\n",
    "x = Dense(1024, activation='relu')(x)\n",
    "x = Dropout(0.3)(x)\n",
    "x = Dense(1024, activation=\"relu\")(x)\n",
    "x = Dropout(0.5)(x)\n",
    "x = Dense(512, activation=\"relu\")(x)\n",
    "x = Dropout(0.4) (x)\n",
    "\n",
    "predictions = Dense(train_generator.num_classes, activation='softmax')(x)\n",
    "model = Model(inputs=base_model.input, outputs=predictions)\n",
    "\n",
    "for layer in base_model.layers:\n",
    "    layer.trainable = False\n",
    "    \n",
    "model.compile(optimizer='adam', loss='categorical_crossentropy', metrics = ['accuracy'])\n",
    "\n",
    "model.fit(train_generator, validation_data=valid_generator, epochs = 8)"
   ]
  },
  {
   "cell_type": "markdown",
   "id": "5f9c68fb",
   "metadata": {},
   "source": [
    "# Evaluation"
   ]
  },
  {
   "cell_type": "code",
   "execution_count": 9,
   "id": "d7290a57",
   "metadata": {},
   "outputs": [
    {
     "name": "stderr",
     "output_type": "stream",
     "text": [
      "C:\\Users\\Jamith\\anaconda3\\envs\\anodet\\lib\\site-packages\\keras\\utils\\generic_utils.py:494: CustomMaskWarning: Custom mask layers require a config and must override get_config. When loading, the custom mask layer must be passed to the custom_objects argument.\n",
      "  warnings.warn('Custom mask layers require a config and must override '\n"
     ]
    }
   ],
   "source": [
    "model.save('model/anomality_detection.h5')"
   ]
  },
  {
   "cell_type": "code",
   "execution_count": 10,
   "id": "b4318266",
   "metadata": {},
   "outputs": [
    {
     "name": "stdout",
     "output_type": "stream",
     "text": [
      "33765/33765 - 254s - loss: 0.7401 - accuracy: 0.7849\n",
      "\n",
      "Test Accuracy: 0.7848955988883972\n"
     ]
    }
   ],
   "source": [
    "test_loss, test_acc = model.evaluate(test_generator, verbose=2)\n",
    "print('\\nTest Accuracy:', test_acc)"
   ]
  },
  {
   "cell_type": "markdown",
   "id": "e80dbee1",
   "metadata": {},
   "source": [
    "# Testing"
   ]
  },
  {
   "cell_type": "code",
   "execution_count": 11,
   "id": "85e6c67c",
   "metadata": {},
   "outputs": [
    {
     "data": {
      "image/png": "[encoded data removed]",
      "text/plain": [
       "<Figure size 640x480 with 2 Axes>"
      ]
     },
     "metadata": {},
     "output_type": "display_data"
    },
    {
     "name": "stdout",
     "output_type": "stream",
     "text": [
      "test accuracy : 78.08677624759366\n"
     ]
    }
   ],
   "source": [
    "import pandas as pd\n",
    "import seaborn as sn\n",
    "import tensorflow as tf\n",
    "\n",
    "model = tf.keras.models.load_model('model/anomality_detection.h5')\n",
    "filenames = test_generator.filenames\n",
    "nb_samples = len(test_generator)\n",
    "y_prob=[]\n",
    "y_act=[]\n",
    "test_generator.reset()\n",
    "for _ in range(nb_samples):\n",
    "    X_test, Y_test = test_generator.next()\n",
    "    y_prob.append(model.predict(X_test))\n",
    "    y_act.append(Y_test)\n",
    "    \n",
    "predicted_class = [list(train_generator.class_indices.keys())[i.argmax()] for i in y_prob]\n",
    "actual_class = [list(train_generator.class_indices.keys())[i.argmax()] for i in y_act]\n",
    "\n",
    "out_df = pd.DataFrame(np.vstack([predicted_class, actual_class]).T, columns=['predicted_class', 'actual_class'])\n",
    "confusion_matrix = pd.crosstab(out_df['actual_class'], out_df['predicted_class'], rownames=['actual'], colnames=['Predicted'])\n",
    "\n",
    "sn.heatmap(confusion_matrix, cmap='Blues', annot=True, fmt='d')\n",
    "plt.show()\n",
    "print('test accuracy : {}'.format(np.diagonal(confusion_matrix).sum()/confusion_matrix.sum().sum()*100))"
   ]
  },
  {
   "cell_type": "code",
   "execution_count": null,
   "id": "f01fed32",
   "metadata": {},
   "outputs": [],
   "source": []
  }
 ],
 "metadata": {
  "kernelspec": {
   "display_name": "Python 3 (ipykernel)",
   "language": "python",
   "name": "python3"
  },
  "language_info": {
   "codemirror_mode": {
    "name": "ipython",
    "version": 3
   },
   "file_extension": ".py",
   "mimetype": "text/x-python",
   "name": "python",
   "nbconvert_exporter": "python",
   "pygments_lexer": "ipython3",
   "version": "3.10.9"
  }
 },
 "nbformat": 4,
 "nbformat_minor": 5
}
